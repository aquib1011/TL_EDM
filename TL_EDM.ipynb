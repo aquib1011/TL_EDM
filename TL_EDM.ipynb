{
 "cells": [
  {
   "cell_type": "markdown",
   "id": "163bdda5",
   "metadata": {},
   "source": [
    "**TL_EDM**"
   ]
  },
  {
   "cell_type": "code",
   "execution_count": null,
   "id": "bbc1bb79",
   "metadata": {
    "scrolled": true
   },
   "outputs": [],
   "source": [
    "\n",
    "import numpy as np\n",
    "import pandas as pd\n",
    "from sklearn import metrics\n",
    "import tensorflow as tf\n",
    "import matplotlib.pyplot as plt\n",
    "from tensorflow.keras.optimizers import Adam\n",
    "from sklearn.model_selection import train_test_split\n",
    "from tensorflow.keras.losses import MeanSquaredLogarithmicError\n",
    "import random\n",
    "import seed\n",
    "np.random.seed = 1\n",
    "\n",
    "from scale_datasets import *\n",
    "from model import *\n",
    "from visualization import *\n"
   ]
  },
  {
   "cell_type": "code",
   "execution_count": null,
   "id": "0712c15e",
   "metadata": {},
   "outputs": [],
   "source": [
    "path_to_all_data = \"sample_all.csv\"\n",
    "path_to_one_data = \"sample_one.csv\""
   ]
  },
  {
   "cell_type": "code",
   "execution_count": null,
   "id": "79588451",
   "metadata": {},
   "outputs": [],
   "source": [
    "df1 = pd.read_csv(path_to_all_data)\n",
    "df1.head()\n",
    "X = df1.drop(\"MRR\", axis=\"columns\")\n",
    "Y = df1[\"MRR\"]\n",
    "X_train, X_test, Y_train, Y_test = train_test_split(X, Y, test_size=0.2)\n"
   ]
  },
  {
   "cell_type": "code",
   "execution_count": null,
   "id": "3877dad0",
   "metadata": {},
   "outputs": [],
   "source": [
    "X = df1.drop(\"MRR\", axis=\"columns\")\n",
    "Y = df1[\"MRR\"]\n",
    "X_train, X_test, Y_train, Y_test = train_test_split(X, Y, test_size=0.2)\n"
   ]
  },
  {
   "cell_type": "code",
   "execution_count": null,
   "id": "066db0f2",
   "metadata": {},
   "outputs": [],
   "source": [
    "#call a function to scale the datasets from scale_datasets.py\n",
    "x_train_scaled, x_test_scaled = scale_datasets(X_train, X_test)"
   ]
  },
  {
   "cell_type": "code",
   "execution_count": null,
   "id": "9ea9ab04",
   "metadata": {},
   "outputs": [],
   "source": [
    "#Modify the Input paramater of hidden layer and learning rate \n",
    "hidden_units1 = 512\n",
    "hidden_units2 = 256\n",
    "hidden_units3 = 128\n",
    "hidden_units4 = 64\n",
    "learning_rate = 0.01\n",
    "# Creating model using the Sequential in tensorflow\n",
    "model = build_model_using_sequential( hidden_units1, hidden_units2, hidden_units3, hidden_units4)"
   ]
  },
  {
   "cell_type": "code",
   "execution_count": null,
   "id": "df871b96",
   "metadata": {},
   "outputs": [],
   "source": [
    "# loss function\n",
    "msle = MeanSquaredLogarithmicError()\n",
    "model.compile(\n",
    "    loss=msle, \n",
    "    optimizer=Adam(learning_rate=learning_rate), \n",
    "    metrics=[msle]\n",
    ")\n",
    "# train the model\n",
    "history = model.fit(\n",
    "    x_train_scaled.values, \n",
    "    Y_train.values, \n",
    "    epochs=100, \n",
    "    batch_size=32,\n",
    "    validation_split=0.1\n",
    ")"
   ]
  },
  {
   "cell_type": "code",
   "execution_count": null,
   "id": "df2d0824",
   "metadata": {},
   "outputs": [],
   "source": [
    "# Plot the history\n",
    "plot_history(history, 'mean_squared_logarithmic_error', ' Category B')"
   ]
  },
  {
   "cell_type": "code",
   "execution_count": null,
   "id": "b4f7a3ec",
   "metadata": {},
   "outputs": [],
   "source": [
    "y_pred = model.predict(x_test_scaled)"
   ]
  },
  {
   "cell_type": "code",
   "execution_count": null,
   "id": "61fa309e",
   "metadata": {},
   "outputs": [],
   "source": [
    "y_true = Y_test"
   ]
  },
  {
   "cell_type": "code",
   "execution_count": null,
   "id": "b5129355",
   "metadata": {},
   "outputs": [],
   "source": [
    "print('Mean Absolute Error:', metrics.mean_absolute_error(y_true, y_pred))  \n",
    "print('mean_squared_log_error:', metrics.mean_squared_log_error(y_true, y_pred))  \n",
    "print('Mean Squared Error:', metrics.mean_squared_error(y_true, y_pred))  \n",
    "print('Root Mean Squared Error:', np.sqrt(metrics.mean_squared_error(y_true, y_pred)))\n",
    "print('R2:', np.sqrt(metrics.r2_score(y_true, y_pred)))\n"
   ]
  },
  {
   "cell_type": "code",
   "execution_count": null,
   "id": "43b65621",
   "metadata": {},
   "outputs": [],
   "source": [
    "model.save(\"all_model.h5\")\n",
    " "
   ]
  },
  {
   "cell_type": "code",
   "execution_count": null,
   "id": "cf141718",
   "metadata": {},
   "outputs": [],
   "source": [
    "df2 = pd.read_csv(path_to_one_data)\n",
    "df2.head()"
   ]
  },
  {
   "cell_type": "code",
   "execution_count": null,
   "id": "3908be9c",
   "metadata": {},
   "outputs": [],
   "source": [
    "X = df2.drop(\"MRR\", axis=\"columns\")\n",
    "Y = df2[\"MRR\"]\n",
    "X_train, X_test, Y_train, Y_test = train_test_split(X, Y, test_size=0.2)\n"
   ]
  },
  {
   "cell_type": "code",
   "execution_count": null,
   "id": "f18099a5",
   "metadata": {},
   "outputs": [],
   "source": [
    "x_train_scaled, x_test_scaled = scale_datasets(X_train, X_test)\n"
   ]
  },
  {
   "cell_type": "code",
   "execution_count": null,
   "id": "a3d4b455",
   "metadata": {},
   "outputs": [],
   "source": [
    "import tensorflow as tf\n",
    "#...\n",
    "myModel = tf.keras.models.load_model(\"all_model.h5\", compile=False)\n"
   ]
  },
  {
   "cell_type": "code",
   "execution_count": null,
   "id": "446499ca",
   "metadata": {},
   "outputs": [],
   "source": [
    "# loss function\n",
    "msle = MeanSquaredLogarithmicError()\n",
    "myModel.compile(\n",
    "    loss=msle, \n",
    "    optimizer=Adam(learning_rate=learning_rate), \n",
    "    metrics=[msle]\n",
    ")\n",
    "# train the model\n",
    "history = myModel.fit(\n",
    "    x_train_scaled.values, \n",
    "    Y_train.values, \n",
    "    epochs=100, \n",
    "    batch_size=64,\n",
    "    validation_split=0.1\n",
    ")"
   ]
  },
  {
   "cell_type": "code",
   "execution_count": null,
   "id": "c1eaae9a",
   "metadata": {},
   "outputs": [],
   "source": [
    "# Plot the history\n",
    "plot_history(history, 'mean_squared_logarithmic_error', 'Category C')"
   ]
  },
  {
   "cell_type": "code",
   "execution_count": null,
   "id": "4a30370a",
   "metadata": {},
   "outputs": [],
   "source": [
    "y_pred = myModel.predict(x_test_scaled)\n",
    "y_true = Y_test"
   ]
  },
  {
   "cell_type": "code",
   "execution_count": null,
   "id": "040af1b8",
   "metadata": {},
   "outputs": [],
   "source": [
    "print('Mean Absolute Error:', metrics.mean_absolute_error(y_true, y_pred))  \n",
    "print('mean_squared_log_error:', metrics.mean_squared_log_error(y_true, y_pred))  \n",
    "print('Mean Squared Error:', metrics.mean_squared_error(y_true, y_pred))  \n",
    "print('Root Mean Squared Error:', np.sqrt(metrics.mean_squared_error(y_true, y_pred)))\n",
    "print('R2:', np.sqrt(metrics.r2_score(y_true, y_pred)))\n"
   ]
  },
  {
   "cell_type": "code",
   "execution_count": null,
   "id": "a20dd5d3",
   "metadata": {},
   "outputs": [],
   "source": [
    "# loss function\n",
    "model1 = build_model_using_sequential(hidden_units1=512, hidden_units2=256, hidden_units3=128, hidden_units4=64)\n",
    "msle = MeanSquaredLogarithmicError()\n",
    "model1.compile(\n",
    "    loss=msle, \n",
    "    optimizer=Adam(learning_rate=learning_rate), \n",
    "    metrics=[msle]\n",
    ")\n",
    "# train the model\n",
    "history = model1.fit(\n",
    "    x_train_scaled.values, \n",
    "    Y_train.values, \n",
    "    epochs=100, \n",
    "    batch_size=64,\n",
    "    validation_split=0.1\n",
    ")"
   ]
  },
  {
   "cell_type": "code",
   "execution_count": null,
   "id": "82065f63",
   "metadata": {},
   "outputs": [],
   "source": [
    "# Plot the history\n",
    "plot_history(history, 'mean_squared_logarithmic_error','Category A')"
   ]
  },
  {
   "cell_type": "code",
   "execution_count": null,
   "id": "d9d9b7eb",
   "metadata": {},
   "outputs": [],
   "source": [
    "y_pred = model1.predict(x_test_scaled)\n",
    "y_true = Y_test"
   ]
  },
  {
   "cell_type": "code",
   "execution_count": null,
   "id": "c7e18325",
   "metadata": {},
   "outputs": [],
   "source": [
    "print('Mean Absolute Error:', metrics.mean_absolute_error(y_true, y_pred))  \n",
    "print('mean_squared_log_error:', metrics.mean_squared_log_error(y_true, y_pred))  \n",
    "print('Mean Squared Error:', metrics.mean_squared_error(y_true, y_pred))  \n",
    "print('Root Mean Squared Error:', np.sqrt(metrics.mean_squared_error(y_true, y_pred)))\n",
    "print('R2:', np.sqrt(metrics.r2_score(y_true, y_pred)))"
   ]
  }
 ],
 "metadata": {
  "kernelspec": {
   "display_name": "Python 3",
   "language": "python",
   "name": "python3"
  },
  "language_info": {
   "codemirror_mode": {
    "name": "ipython",
    "version": 3
   },
   "file_extension": ".py",
   "mimetype": "text/x-python",
   "name": "python",
   "nbconvert_exporter": "python",
   "pygments_lexer": "ipython3",
   "version": "3.8.2"
  },
  "vscode": {
   "interpreter": {
    "hash": "87b30201b0b0dfdf0f55f937990c54a0dd88935d5b032b29c997a77d04843140"
   }
  }
 },
 "nbformat": 4,
 "nbformat_minor": 5
}
